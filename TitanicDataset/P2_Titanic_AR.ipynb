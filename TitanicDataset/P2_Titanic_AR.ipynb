{
 "cells": [
  {
   "cell_type": "markdown",
   "metadata": {
    "nbpresent": {
     "id": "7ace33cc-08fd-43f3-a5a4-057c0e06e5e3"
    },
    "slideshow": {
     "slide_type": "-"
    }
   },
   "source": [
    "# Titanic dataset"
   ]
  },
  {
   "cell_type": "markdown",
   "metadata": {},
   "source": [
    "#### A look at the factors that may influence the survival of a passenger. \n",
    "                                                                                             -Aparna Radhakrishnan."
   ]
  },
  {
   "cell_type": "markdown",
   "metadata": {
    "nbpresent": {
     "id": "dc03a0ba-4579-434a-b52c-59a57e80e55b"
    }
   },
   "source": [
    "RMS Titanic made its maiden voyage on 10 April 1912. It was a tragic voyage for many aboard as it hit an iceberg on the North Atlantic Ocean on 15 April 1912 and sank. The route of the journey till the sinking coordinates can be seen in the map below:\n",
    "![Image](https://upload.wikimedia.org/wikipedia/commons/5/51/Titanic_voyage_map.png)\n",
    "\n",
    "The passengers embarked from three ports - Southamptom, Cherbourg and Queenstown. "
   ]
  },
  {
   "cell_type": "code",
   "execution_count": 1,
   "metadata": {
    "collapsed": true,
    "nbpresent": {
     "id": "327f227a-8c92-44a8-a090-c5280779bb67"
    }
   },
   "outputs": [],
   "source": [
    "# Importing libraries and setting up the environment.\n",
    "%matplotlib inline\n",
    "\n",
    "import pandas as pd\n",
    "import numpy as np\n",
    "import matplotlib.pyplot as plt\n"
   ]
  },
  {
   "cell_type": "code",
   "execution_count": 2,
   "metadata": {
    "collapsed": false,
    "nbpresent": {
     "id": "8f440b6e-dafb-4971-80ec-7213cf04578c"
    }
   },
   "outputs": [
    {
     "name": "stdout",
     "output_type": "stream",
     "text": [
      "(891, 12)\n"
     ]
    },
    {
     "data": {
      "text/html": [
       "<div>\n",
       "<table border=\"1\" class=\"dataframe\">\n",
       "  <thead>\n",
       "    <tr style=\"text-align: right;\">\n",
       "      <th></th>\n",
       "      <th>PassengerId</th>\n",
       "      <th>Survived</th>\n",
       "      <th>Pclass</th>\n",
       "      <th>Name</th>\n",
       "      <th>Sex</th>\n",
       "      <th>Age</th>\n",
       "      <th>SibSp</th>\n",
       "      <th>Parch</th>\n",
       "      <th>Ticket</th>\n",
       "      <th>Fare</th>\n",
       "      <th>Cabin</th>\n",
       "      <th>Embarked</th>\n",
       "    </tr>\n",
       "  </thead>\n",
       "  <tbody>\n",
       "    <tr>\n",
       "      <th>0</th>\n",
       "      <td>1</td>\n",
       "      <td>0</td>\n",
       "      <td>3</td>\n",
       "      <td>Braund, Mr. Owen Harris</td>\n",
       "      <td>male</td>\n",
       "      <td>22.0</td>\n",
       "      <td>1</td>\n",
       "      <td>0</td>\n",
       "      <td>A/5 21171</td>\n",
       "      <td>7.2500</td>\n",
       "      <td>NaN</td>\n",
       "      <td>S</td>\n",
       "    </tr>\n",
       "    <tr>\n",
       "      <th>1</th>\n",
       "      <td>2</td>\n",
       "      <td>1</td>\n",
       "      <td>1</td>\n",
       "      <td>Cumings, Mrs. John Bradley (Florence Briggs Th...</td>\n",
       "      <td>female</td>\n",
       "      <td>38.0</td>\n",
       "      <td>1</td>\n",
       "      <td>0</td>\n",
       "      <td>PC 17599</td>\n",
       "      <td>71.2833</td>\n",
       "      <td>C85</td>\n",
       "      <td>C</td>\n",
       "    </tr>\n",
       "    <tr>\n",
       "      <th>2</th>\n",
       "      <td>3</td>\n",
       "      <td>1</td>\n",
       "      <td>3</td>\n",
       "      <td>Heikkinen, Miss. Laina</td>\n",
       "      <td>female</td>\n",
       "      <td>26.0</td>\n",
       "      <td>0</td>\n",
       "      <td>0</td>\n",
       "      <td>STON/O2. 3101282</td>\n",
       "      <td>7.9250</td>\n",
       "      <td>NaN</td>\n",
       "      <td>S</td>\n",
       "    </tr>\n",
       "    <tr>\n",
       "      <th>3</th>\n",
       "      <td>4</td>\n",
       "      <td>1</td>\n",
       "      <td>1</td>\n",
       "      <td>Futrelle, Mrs. Jacques Heath (Lily May Peel)</td>\n",
       "      <td>female</td>\n",
       "      <td>35.0</td>\n",
       "      <td>1</td>\n",
       "      <td>0</td>\n",
       "      <td>113803</td>\n",
       "      <td>53.1000</td>\n",
       "      <td>C123</td>\n",
       "      <td>S</td>\n",
       "    </tr>\n",
       "    <tr>\n",
       "      <th>4</th>\n",
       "      <td>5</td>\n",
       "      <td>0</td>\n",
       "      <td>3</td>\n",
       "      <td>Allen, Mr. William Henry</td>\n",
       "      <td>male</td>\n",
       "      <td>35.0</td>\n",
       "      <td>0</td>\n",
       "      <td>0</td>\n",
       "      <td>373450</td>\n",
       "      <td>8.0500</td>\n",
       "      <td>NaN</td>\n",
       "      <td>S</td>\n",
       "    </tr>\n",
       "    <tr>\n",
       "      <th>5</th>\n",
       "      <td>6</td>\n",
       "      <td>0</td>\n",
       "      <td>3</td>\n",
       "      <td>Moran, Mr. James</td>\n",
       "      <td>male</td>\n",
       "      <td>NaN</td>\n",
       "      <td>0</td>\n",
       "      <td>0</td>\n",
       "      <td>330877</td>\n",
       "      <td>8.4583</td>\n",
       "      <td>NaN</td>\n",
       "      <td>Q</td>\n",
       "    </tr>\n",
       "    <tr>\n",
       "      <th>6</th>\n",
       "      <td>7</td>\n",
       "      <td>0</td>\n",
       "      <td>1</td>\n",
       "      <td>McCarthy, Mr. Timothy J</td>\n",
       "      <td>male</td>\n",
       "      <td>54.0</td>\n",
       "      <td>0</td>\n",
       "      <td>0</td>\n",
       "      <td>17463</td>\n",
       "      <td>51.8625</td>\n",
       "      <td>E46</td>\n",
       "      <td>S</td>\n",
       "    </tr>\n",
       "    <tr>\n",
       "      <th>7</th>\n",
       "      <td>8</td>\n",
       "      <td>0</td>\n",
       "      <td>3</td>\n",
       "      <td>Palsson, Master. Gosta Leonard</td>\n",
       "      <td>male</td>\n",
       "      <td>2.0</td>\n",
       "      <td>3</td>\n",
       "      <td>1</td>\n",
       "      <td>349909</td>\n",
       "      <td>21.0750</td>\n",
       "      <td>NaN</td>\n",
       "      <td>S</td>\n",
       "    </tr>\n",
       "    <tr>\n",
       "      <th>8</th>\n",
       "      <td>9</td>\n",
       "      <td>1</td>\n",
       "      <td>3</td>\n",
       "      <td>Johnson, Mrs. Oscar W (Elisabeth Vilhelmina Berg)</td>\n",
       "      <td>female</td>\n",
       "      <td>27.0</td>\n",
       "      <td>0</td>\n",
       "      <td>2</td>\n",
       "      <td>347742</td>\n",
       "      <td>11.1333</td>\n",
       "      <td>NaN</td>\n",
       "      <td>S</td>\n",
       "    </tr>\n",
       "    <tr>\n",
       "      <th>9</th>\n",
       "      <td>10</td>\n",
       "      <td>1</td>\n",
       "      <td>2</td>\n",
       "      <td>Nasser, Mrs. Nicholas (Adele Achem)</td>\n",
       "      <td>female</td>\n",
       "      <td>14.0</td>\n",
       "      <td>1</td>\n",
       "      <td>0</td>\n",
       "      <td>237736</td>\n",
       "      <td>30.0708</td>\n",
       "      <td>NaN</td>\n",
       "      <td>C</td>\n",
       "    </tr>\n",
       "  </tbody>\n",
       "</table>\n",
       "</div>"
      ],
      "text/plain": [
       "   PassengerId  Survived  Pclass  \\\n",
       "0            1         0       3   \n",
       "1            2         1       1   \n",
       "2            3         1       3   \n",
       "3            4         1       1   \n",
       "4            5         0       3   \n",
       "5            6         0       3   \n",
       "6            7         0       1   \n",
       "7            8         0       3   \n",
       "8            9         1       3   \n",
       "9           10         1       2   \n",
       "\n",
       "                                                Name     Sex   Age  SibSp  \\\n",
       "0                            Braund, Mr. Owen Harris    male  22.0      1   \n",
       "1  Cumings, Mrs. John Bradley (Florence Briggs Th...  female  38.0      1   \n",
       "2                             Heikkinen, Miss. Laina  female  26.0      0   \n",
       "3       Futrelle, Mrs. Jacques Heath (Lily May Peel)  female  35.0      1   \n",
       "4                           Allen, Mr. William Henry    male  35.0      0   \n",
       "5                                   Moran, Mr. James    male   NaN      0   \n",
       "6                            McCarthy, Mr. Timothy J    male  54.0      0   \n",
       "7                     Palsson, Master. Gosta Leonard    male   2.0      3   \n",
       "8  Johnson, Mrs. Oscar W (Elisabeth Vilhelmina Berg)  female  27.0      0   \n",
       "9                Nasser, Mrs. Nicholas (Adele Achem)  female  14.0      1   \n",
       "\n",
       "   Parch            Ticket     Fare Cabin Embarked  \n",
       "0      0         A/5 21171   7.2500   NaN        S  \n",
       "1      0          PC 17599  71.2833   C85        C  \n",
       "2      0  STON/O2. 3101282   7.9250   NaN        S  \n",
       "3      0            113803  53.1000  C123        S  \n",
       "4      0            373450   8.0500   NaN        S  \n",
       "5      0            330877   8.4583   NaN        Q  \n",
       "6      0             17463  51.8625   E46        S  \n",
       "7      1            349909  21.0750   NaN        S  \n",
       "8      2            347742  11.1333   NaN        S  \n",
       "9      0            237736  30.0708   NaN        C  "
      ]
     },
     "execution_count": 2,
     "metadata": {},
     "output_type": "execute_result"
    }
   ],
   "source": [
    "# Reading in the data, checking on dimensions and at the first five rows of the data.\n",
    "titanic_data = pd.read_csv('titanic_data.csv')\n",
    "print titanic_data.shape\n",
    "titanic_data.head(10)"
   ]
  },
  {
   "cell_type": "markdown",
   "metadata": {},
   "source": [
    "The dataset contains 12 columns of information including name, sex, age, class and port of embarkment of 891 passengers."
   ]
  },
  {
   "cell_type": "markdown",
   "metadata": {},
   "source": [
    "### Questions"
   ]
  },
  {
   "cell_type": "markdown",
   "metadata": {
    "nbpresent": {
     "id": "5669d8a1-9eaf-4a13-90e6-54e53c4bc7a4"
    }
   },
   "source": [
    "A few of the questions that can be answered using the data are as follows:\n",
    "\n",
    "** 1. Gender - Did more females survive than males (adults)? **\n",
    "\n",
    "** 2. Age - Did more children survive? **\n",
    "\n",
    "** 3. Did the Class matter? **\n",
    "\n",
    "** 4. Did the Embarkation port have any influence on the survival? **\n"
   ]
  },
  {
   "cell_type": "markdown",
   "metadata": {},
   "source": [
    "### Analyses:"
   ]
  },
  {
   "cell_type": "code",
   "execution_count": 3,
   "metadata": {
    "collapsed": false,
    "nbpresent": {
     "id": "726b9554-141b-4098-af3d-15adb3ff861d"
    }
   },
   "outputs": [
    {
     "name": "stdout",
     "output_type": "stream",
     "text": [
      "Survived\n",
      "0    61.616162\n",
      "1    38.383838\n",
      "dtype: float64\n",
      " \n",
      "(342, 13)\n"
     ]
    }
   ],
   "source": [
    "# Create a new column with a logical answer of whether each passenger is an adult or child. \n",
    "# Adult defined as age greater than or equal to 18.\n",
    "# The passengers without missing age will be \"False\" in the \"is_adult\" column and need to be handled separately.\n",
    "titanic_data['is_adult']=titanic_data['Age']>=18\n",
    "\n",
    "# The percentage of survivors \n",
    "print titanic_data.groupby('Survived').size()*100/titanic_data.groupby('Survived').size().sum()\n",
    "\n",
    "# Create a dataset with only the survivors.\n",
    "survived_data=titanic_data[titanic_data['Survived']==1]\n",
    "print \" \"\n",
    "print survived_data.shape"
   ]
  },
  {
   "cell_type": "markdown",
   "metadata": {},
   "source": [
    "The survival rate of the passengers in this dataset is only 38% that is 342 passengers."
   ]
  },
  {
   "cell_type": "markdown",
   "metadata": {
    "nbpresent": {
     "id": "fca669b2-e8c4-4fd5-98af-659486dd64e5"
    }
   },
   "source": [
    "#### 1. Gender -Did more females survive than males (adults)?"
   ]
  },
  {
   "cell_type": "markdown",
   "metadata": {},
   "source": [
    "First a look at the total percentage of each sex in the dataset."
   ]
  },
  {
   "cell_type": "code",
   "execution_count": 4,
   "metadata": {
    "collapsed": false,
    "nbpresent": {
     "id": "bdc54de2-2c77-479c-a42a-8ac85b7db880"
    }
   },
   "outputs": [
    {
     "name": "stdout",
     "output_type": "stream",
     "text": [
      "Sex\n",
      "female    34.276206\n",
      "male      65.723794\n",
      "dtype: float64\n"
     ]
    },
    {
     "data": {
      "image/png": "[encoded data removed]",
      "text/plain": [
       "<matplotlib.figure.Figure at 0x115e20fd0>"
      ]
     },
     "metadata": {},
     "output_type": "display_data"
    }
   ],
   "source": [
    "# Total percentage of each sex in the dataset displayed as a table and shown in the pie chart. \n",
    "sex_count=titanic_data[titanic_data['is_adult']==True].groupby('Sex').size() # since missing data in age is considered as false, only adults are considered here.\n",
    "print sex_count*100/sex_count.sum()\n",
    "\n",
    "labels = sex_count.index.values\n",
    "sizes = sex_count\n",
    "colors = ['pink','lightblue']\n",
    "patches, texts = plt.pie(sizes, colors=colors, startangle=90, shadow=True, wedgeprops = {\"linewidth\":3})\n",
    "plt.legend(patches, labels, loc=\"best\")\n",
    "\n",
    "# Set aspect ratio to be equal so that pie is drawn as a circle.\n",
    "plt.axis('equal')\n",
    "plt.tight_layout()\n"
   ]
  },
  {
   "cell_type": "markdown",
   "metadata": {
    "nbpresent": {
     "id": "4fed227b-fcf2-409d-864a-e05d63f09f06"
    }
   },
   "source": [
    "About 34% of the total number of passengers are female and 66% are males. In the pie-chart above, the females are respresented in pink and the males in blue. Further, a look at the sex of the adult survivors."
   ]
  },
  {
   "cell_type": "code",
   "execution_count": 5,
   "metadata": {
    "collapsed": false,
    "nbpresent": {
     "id": "8c32b473-7d8e-45b6-8014-123371a247c4"
    }
   },
   "outputs": [
    {
     "name": "stdout",
     "output_type": "stream",
     "text": [
      " \n",
      "Percentage of Survivors Grouped by Sex\n",
      "Sex\n",
      "female    69.432314\n",
      "male      30.567686\n",
      "Name: Survived, dtype: float64\n",
      " \n"
     ]
    },
    {
     "data": {
      "image/png": "[encoded data removed]",
      "text/plain": [
       "<matplotlib.figure.Figure at 0x115df2d10>"
      ]
     },
     "metadata": {},
     "output_type": "display_data"
    }
   ],
   "source": [
    "# Calculate numbers of individuals of each adult of each sex that survived.\n",
    "# This is again displayed as table and pie chart following conventions as previously.\n",
    "# Since only the adults are being looked at, there is no need to handle the missing age \"False\".\n",
    "\n",
    "sex_survived_count=survived_data[survived_data['is_adult']==True].groupby(['Sex']).count()[\"Survived\"]\n",
    "print \" \"\n",
    "print \"Percentage of Survivors Grouped by Sex\"\n",
    "print sex_survived_count*100/sex_survived_count.sum()\n",
    "print \" \"\n",
    "\n",
    "labels = sex_survived_count.index.values\n",
    "sizes = sex_survived_count\n",
    "colors = ['pink','lightblue']\n",
    "patches, texts = plt.pie(sizes, colors=colors, startangle=90, shadow=True, wedgeprops = {\"linewidth\":3})\n",
    "plt.legend(patches, labels, loc=\"best\")\n",
    "\n",
    "# Set aspect ratio to be equal so that pie is drawn as a circle.\n",
    "plt.title('Survivors by Sex')\n",
    "plt.axis('equal')\n",
    "plt.tight_layout()\n"
   ]
  },
  {
   "cell_type": "markdown",
   "metadata": {},
   "source": [
    "The absolute percentages of survivors by sex are about 69% females and 31% males respectively."
   ]
  },
  {
   "cell_type": "code",
   "execution_count": 6,
   "metadata": {
    "collapsed": false,
    "nbpresent": {
     "id": "77d8ac6e-826a-43dc-9cae-3580a1f14f5b"
    }
   },
   "outputs": [
    {
     "name": "stdout",
     "output_type": "stream",
     "text": [
      " \n",
      "Relative Percentages with respect to Sex\n",
      "Sex\n",
      "female    77.184466\n",
      "male      17.721519\n",
      "dtype: float64\n"
     ]
    }
   ],
   "source": [
    "# The following table shows the survivors of each sex with respect to total of the same sex.\n",
    "print \" \"\n",
    "print \"Relative Percentages with respect to Sex\"\n",
    "sex_survived_wrt_sex_percent = sex_survived_count*100/sex_count\n",
    "print sex_survived_wrt_sex_percent\n"
   ]
  },
  {
   "cell_type": "markdown",
   "metadata": {
    "nbpresent": {
     "id": "5b336395-f01a-4794-95ca-28287d35867c"
    }
   },
   "source": [
    "Finally, about 77% of the total female pasengers survived but only 18% of the total male passengers survived."
   ]
  },
  {
   "cell_type": "markdown",
   "metadata": {
    "nbpresent": {
     "id": "b798205b-b2de-42d7-9bdc-e12911021ed3"
    }
   },
   "source": [
    "In conclusion, more females survived than males. This is because of the 'women and children first' protocol [1] that was followed. "
   ]
  },
  {
   "cell_type": "markdown",
   "metadata": {
    "nbpresent": {
     "id": "b0c4ca71-bbd7-4775-8bc2-faf8f862a47c"
    }
   },
   "source": [
    "#### 2. Age - Did more children survive?"
   ]
  },
  {
   "cell_type": "markdown",
   "metadata": {},
   "source": [
    "Following the 'women and children first' protocol, one would expect more children to have survived than adults. To confirm the same, the following analysis was carried out:"
   ]
  },
  {
   "cell_type": "code",
   "execution_count": 8,
   "metadata": {
    "collapsed": false,
    "nbpresent": {
     "id": "5b86c863-6d35-43ba-95c6-b11f9df10090"
    }
   },
   "outputs": [
    {
     "name": "stdout",
     "output_type": "stream",
     "text": [
      " \n",
      "Number of Passengers that were children and adults\n",
      "is_adult\n",
      "False    113\n",
      "True     601\n",
      "dtype: int64\n"
     ]
    },
    {
     "data": {
      "text/plain": [
       "<matplotlib.text.Text at 0x1186bdf50>"
      ]
     },
     "execution_count": 8,
     "metadata": {},
     "output_type": "execute_result"
    },
    {
     "data": {
      "image/png": "[encoded data removed]",
      "text/plain": [
       "<matplotlib.figure.Figure at 0x10d7fb110>"
      ]
     },
     "metadata": {},
     "output_type": "display_data"
    }
   ],
   "source": [
    "# Calculate numbers of passenger that are adults and children. The passengers missing age were not considered.\n",
    "total_by_age = titanic_data[pd.notnull(titanic_data['Age'])].groupby('is_adult',as_index=False,group_keys=False).size()\n",
    "print \" \"\n",
    "print \"Number of Passengers that were children and adults\"\n",
    "print total_by_age\n",
    "\n",
    "passengers_adult_or_child = total_by_age * 100 / total_by_age.sum()\n",
    "\n",
    "# Bar plot of the results.\n",
    "passengers_adult_or_child.plot.bar(color=['red','green'])\n",
    "plt.ylim(0,100)\n",
    "plt.xticks([0,1],['children','adults'])\n",
    "plt.xlabel('')\n",
    "plt.ylabel('Percentage')\n",
    "plt.title('Percentage of Passengers that were children and adults')"
   ]
  },
  {
   "cell_type": "markdown",
   "metadata": {},
   "source": [
    "Looking at only passengers, where the information on age is available, only 16% of the total number of passengers are children (represented as a red bar) and 84% are adults (represented as a green bar)."
   ]
  },
  {
   "cell_type": "code",
   "execution_count": 9,
   "metadata": {
    "collapsed": false
   },
   "outputs": [
    {
     "name": "stdout",
     "output_type": "stream",
     "text": [
      " \n",
      "Number of Survivors that were children and adults\n",
      "is_adult\n",
      "False     61\n",
      "True     229\n",
      "dtype: int64\n",
      " \n",
      "Percentage of Survivors that were children and adults with respect to total\n",
      "is_adult\n",
      "False    53.982301\n",
      "True     38.103161\n",
      "dtype: float64\n"
     ]
    },
    {
     "data": {
      "text/plain": [
       "<matplotlib.text.Text at 0x119045b50>"
      ]
     },
     "execution_count": 9,
     "metadata": {},
     "output_type": "execute_result"
    },
    {
     "data": {
      "image/png": "[encoded data removed]",
      "text/plain": [
       "<matplotlib.figure.Figure at 0x1183ea250>"
      ]
     },
     "metadata": {},
     "output_type": "display_data"
    }
   ],
   "source": [
    "# Calculate numbers of survivors that are adults and children. The survivors missing age were not considered.\n",
    "survivors_by_age = survived_data[pd.notnull(survived_data['Age'])].groupby('is_adult',as_index=False,group_keys=False).size()\n",
    "print \" \"\n",
    "print \"Number of Survivors that were children and adults\"\n",
    "print survivors_by_age\n",
    "\n",
    "# The following table shows the percentage of survivors that were children and adults with respect to total.\n",
    "print \" \"\n",
    "print \"Percentage of Survivors that were children and adults with respect to total\"\n",
    "survivors_adult_or_child=survivors_by_age*100/total_by_age\n",
    "print survivors_adult_or_child\n",
    "\n",
    "# Bar plot of the results\n",
    "survivors_adult_or_child.plot.bar(color=['red','green'])\n",
    "plt.ylim(0,100)\n",
    "plt.xticks([0,1],['children','adults'])\n",
    "plt.xlabel('')\n",
    "plt.ylabel('Percentage')\n",
    "plt.title('Percentage of Survivors that were children and adults')\n"
   ]
  },
  {
   "cell_type": "markdown",
   "metadata": {
    "nbpresent": {
     "id": "131daf85-93cf-4ad5-a986-e841a391b94b"
    }
   },
   "source": [
    "About 54% of the total children (represented as red bar) on board survived and only 38% of the total adults (represented as red bar) survived."
   ]
  },
  {
   "cell_type": "markdown",
   "metadata": {
    "nbpresent": {
     "id": "7827eaf1-4ae8-477e-a1da-fe7796dfb9db"
    }
   },
   "source": [
    "Thus, we can conclude that more children survived than adults."
   ]
  },
  {
   "cell_type": "markdown",
   "metadata": {
    "nbpresent": {
     "id": "64f27208-713b-406f-85cc-fab070f3ce85"
    }
   },
   "source": [
    "#### 3. Did the Class matter?"
   ]
  },
  {
   "cell_type": "code",
   "execution_count": 10,
   "metadata": {
    "collapsed": false,
    "nbpresent": {
     "id": "f7bb0b2a-7466-4b01-ad22-09453842e726"
    }
   },
   "outputs": [
    {
     "name": "stdout",
     "output_type": "stream",
     "text": [
      "Pclass\n",
      "1    62.962963\n",
      "2    47.282609\n",
      "3    24.236253\n",
      "dtype: float64\n"
     ]
    },
    {
     "data": {
      "text/plain": [
       "<matplotlib.text.Text at 0x1191a5710>"
      ]
     },
     "execution_count": 10,
     "metadata": {},
     "output_type": "execute_result"
    },
    {
     "data": {
      "image/png": "[encoded data removed]",
      "text/plain": [
       "<matplotlib.figure.Figure at 0x11903b2d0>"
      ]
     },
     "metadata": {},
     "output_type": "display_data"
    }
   ],
   "source": [
    "# Calculate total number of passengers per class in the whole dataset\n",
    "total_per_class = titanic_data.groupby('Pclass').size()\n",
    "\n",
    "# The following table shows the percentage of survivors for each class.\n",
    "survivors_pclass=survived_data.groupby('Pclass').size()*100/total_per_class\n",
    "print survivors_pclass\n",
    "\n",
    "# Bar plot of results\n",
    "survivors_pclass.plot.bar(color=['red','green','blue'])\n",
    "plt.ylim(0,100)\n",
    "plt.xticks([0,1,2],['class 1','class 2', 'class 3'])\n",
    "plt.xlabel('')\n",
    "plt.ylabel('Percentage')\n",
    "plt.title('Percentage of Survivors based on passenger class')\n"
   ]
  },
  {
   "cell_type": "markdown",
   "metadata": {
    "nbpresent": {
     "id": "08924edf-a9d2-4eb3-a763-d0167bd008b5"
    }
   },
   "source": [
    "The above table and graph shows a clear distinction of the percentage of survival for each of the classes. 63% of passengers in class 1 (represented as red bar) survived, 47% of passengers in class 2 (represented as blue bar) survived and only 24% of passengers in class 3 (represented as green bar) survived. \n"
   ]
  },
  {
   "cell_type": "markdown",
   "metadata": {
    "nbpresent": {
     "id": "a23f71b8-5a01-4b38-be2c-e36420b7fbf5"
    }
   },
   "source": [
    "Thus, the data points towards the survival of passengers did depend on which passenger class they were travelling. The low percentage of survival of passenger class 3 as they had to protect themselves [1] as the lower decks filled with water."
   ]
  },
  {
   "cell_type": "markdown",
   "metadata": {
    "nbpresent": {
     "id": "8fbc4eaf-95cc-4f9b-abe0-9423ef696939"
    }
   },
   "source": [
    "#### 4. Did the Embarkation port have any influence on the survival?"
   ]
  },
  {
   "cell_type": "markdown",
   "metadata": {},
   "source": [
    "The passengers embarked from three different ports. This intutively should have no influence on their survival. In the following analyses, this is tested."
   ]
  },
  {
   "cell_type": "code",
   "execution_count": 11,
   "metadata": {
    "collapsed": false,
    "nbpresent": {
     "id": "20aab871-d655-4088-9907-2ae30c746f19"
    }
   },
   "outputs": [
    {
     "name": "stdout",
     "output_type": "stream",
     "text": [
      "Embarked\n",
      "C    55.357143\n",
      "Q    38.961039\n",
      "S    33.695652\n",
      "dtype: float64\n"
     ]
    }
   ],
   "source": [
    "# Calculate the number of passengers from each port.\n",
    "total_per_embarkation_port = titanic_data.groupby('Embarked').size()\n",
    "\n",
    "# The following table shows the percentage of survivors for each port. \n",
    "obs_result= survived_data.groupby('Embarked').size()*100/total_per_embarkation_port\n",
    "print obs_result\n"
   ]
  },
  {
   "cell_type": "markdown",
   "metadata": {
    "nbpresent": {
     "id": "9b81decd-8b37-4a5a-bc19-eaf508e33ac8"
    }
   },
   "source": [
    "Interstingly, there is a difference in survival rates depending on whether the passenger embarked from Cherbourg or Southamptom and Queenstown. \n",
    "\n",
    "This was further tested using a permutation test. A 1000 permutations were carried out to test whether the above percentages are random. In each permutation, the survival information of 100 passengers are sampled from the dataset and the three ports are randomized with the same probability as present in the dataset. A p-value is calculated as the number of permutations in which a percentage greater than overall survival rate that is 38% is obtained for any one port and less than or equal to 38% for the other two ports over 1000 permutations. \n",
    "\n",
    "The null hypothesis is that the number of passengers that survived from each port is equal to around 38%. The alternative hypothesis is that the number of passenger that survived from one port has a greater survival rate and therfore not equal to 38%."
   ]
  },
  {
   "cell_type": "code",
   "execution_count": 12,
   "metadata": {
    "collapsed": false
   },
   "outputs": [
    {
     "name": "stdout",
     "output_type": "stream",
     "text": [
      "P-value = 0.364\n",
      "\n"
     ]
    }
   ],
   "source": [
    "# Permutations and calculating permutation p-value\n",
    "perm_results = pd.DataFrame() # creating results dataframe\n",
    "seeds=range(150483,151483) # setting seeds to replicate exact results\n",
    "ports=['C','Q','S'] # ports names\n",
    "prob_port=(titanic_data.groupby('Embarked').size()/len(titanic_data['Embarked'])).round(2) # probability of each port\n",
    "\n",
    "# Permutation loop - sample data, setting seed, randomizing port, calculating and storing percentages for the permutation.\n",
    "for permutation in range(0,1000):\n",
    "    sample_data = pd.DataFrame(titanic_data[titanic_data['Survived'].isnull()==False].sample(100,random_state=seeds[permutation])).reset_index()['Survived']\n",
    "    np.random.seed(seed=seeds[permutation]) \n",
    "    random_port = []\n",
    "    for i in np.random.choice(3,size=100,p=prob_port):\n",
    "        random_port.append(ports[i])\n",
    "    random_port=pd.DataFrame(random_port)\n",
    "    perm_data =pd.concat([sample_data,random_port],axis=1,ignore_index=True)\n",
    "    perm_data.columns = ['Survived','Embarked']\n",
    "    perm_port_total = perm_data.groupby('Embarked').size()\n",
    "    perm_port_survived = perm_data[perm_data['Survived']==1].groupby('Embarked').size()\n",
    "    perm_percentage = pd.DataFrame(perm_port_survived * 100 / perm_port_total)\n",
    "    perm_results = pd.concat([perm_results, perm_percentage],axis=1)\n",
    "\n",
    "def count_if_greater_than_expected(percentage):\n",
    "    countgt38 = 0\n",
    "    countle38 = 0\n",
    "    for percent in percentage:\n",
    "        if percent > 38:\n",
    "            countgt38 += 1\n",
    "        else:\n",
    "            countle38 += 1\n",
    "    count = 0\n",
    "    if countgt38 == 1 and countle38 == 2:\n",
    "        count = +1\n",
    "    return count\n",
    "\n",
    "perm_results.columns=range(0,1000)\n",
    "print \"P-value =\",perm_results.apply(count_if_greater_than_expected,axis=0).sum()/1000.0\n",
    "print"
   ]
  },
  {
   "cell_type": "markdown",
   "metadata": {},
   "source": [
    "The permutation p-value to get the observed results is 0.364. Thus, the null hypothesis is rejected."
   ]
  },
  {
   "cell_type": "markdown",
   "metadata": {
    "nbpresent": {
     "id": "3ad73004-376f-437c-ad20-c252ad0aa080"
    }
   },
   "source": [
    "However, there is no reason for the embarkation port to increase survival rate directly. So I hypothesized that this is because of different sex ratios of the passengers embarking from each port. The following analysis is to check on the sex ratio for each port."
   ]
  },
  {
   "cell_type": "code",
   "execution_count": 13,
   "metadata": {
    "collapsed": false,
    "nbpresent": {
     "id": "2047929b-f53f-4ea9-8200-86b1b1fd46d9"
    }
   },
   "outputs": [
    {
     "name": "stdout",
     "output_type": "stream",
     "text": [
      "  Embarked     Sex          0\n",
      "0        C  female  43.452381\n",
      "1        C    male  56.547619\n",
      "2        Q  female  46.753247\n",
      "3        Q    male  53.246753\n",
      "4        S  female  31.521739\n",
      "5        S    male  68.478261\n",
      " \n"
     ]
    },
    {
     "data": {
      "text/plain": [
       "<matplotlib.legend.Legend at 0x119729990>"
      ]
     },
     "execution_count": 13,
     "metadata": {},
     "output_type": "execute_result"
    },
    {
     "data": {
      "image/png": "[encoded data removed]",
      "text/plain": [
       "<matplotlib.figure.Figure at 0x118654490>"
      ]
     },
     "metadata": {},
     "output_type": "display_data"
    }
   ],
   "source": [
    "# The following table shows the percentage of passengers grouped by port and sex (named as gender in the variable).\n",
    "port_gender_groups = (titanic_data.groupby(['Embarked','Sex']).size()*100/total_per_embarkation_port).reset_index()\n",
    "print port_gender_groups\n",
    "\n",
    "males=port_gender_groups[port_gender_groups['Sex']=='male'][0]\n",
    "females=port_gender_groups[port_gender_groups['Sex']=='female'][0]\n",
    "\n",
    "print \" \"\n",
    "\n",
    "# create stacked bar plot for sex from each port.\n",
    "ind=np.arange(3)\n",
    "p1=plt.bar(ind,females,0.35,color='red')\n",
    "p2=plt.bar(ind,males,0.35,color='blue',bottom=females)\n",
    "\n",
    "plt.ylabel('Percentage')\n",
    "plt.title('Percentage of passengers by port and gender')\n",
    "plt.xticks(ind + 0.35/2.0, ('C','Q','S'))\n",
    "plt.legend((p1[0], p2[0]), ('females','males'),loc='best')\n"
   ]
  },
  {
   "cell_type": "markdown",
   "metadata": {
    "nbpresent": {
     "id": "fa45f112-7e3e-46fa-9a1c-423e8a29507e"
    }
   },
   "source": [
    "Although there is a difference in the sex ratio in the passengers that embarked from Southampton, it does not explain the increased survival rate of passengers embarking from Cherbourg."
   ]
  },
  {
   "cell_type": "markdown",
   "metadata": {
    "nbpresent": {
     "id": "ea434a71-3691-4406-9d25-85bbf2a7d8ea"
    }
   },
   "source": [
    "This indicates that there might be another factor influencing the increased rate of survival such as passenger class. In the following analysis, the ratio of passengers in the passenger classes embarking from each port was tested."
   ]
  },
  {
   "cell_type": "code",
   "execution_count": 14,
   "metadata": {
    "collapsed": false,
    "nbpresent": {
     "id": "8befd5f7-f625-495f-9674-27868dbed38a"
    }
   },
   "outputs": [
    {
     "name": "stdout",
     "output_type": "stream",
     "text": [
      "  Embarked Pclass          0\n",
      "0        C      1  50.595238\n",
      "1        C      2  10.119048\n",
      "2        C      3  39.285714\n",
      "3        Q      1   2.597403\n",
      "4        Q      2   3.896104\n",
      "5        Q      3  93.506494\n",
      "6        S      1  19.720497\n",
      "7        S      2  25.465839\n",
      "8        S      3  54.813665\n",
      "------\n",
      "\n"
     ]
    },
    {
     "data": {
      "text/plain": [
       "<matplotlib.legend.Legend at 0x1198a5c90>"
      ]
     },
     "execution_count": 14,
     "metadata": {},
     "output_type": "execute_result"
    },
    {
     "data": {
      "image/png": "[encoded data removed]",
      "text/plain": [
       "<matplotlib.figure.Figure at 0x119776150>"
      ]
     },
     "metadata": {},
     "output_type": "display_data"
    }
   ],
   "source": [
    "# The following table shows the percentage of passengers grouped by port and passenger class\n",
    "port_class_groups = (titanic_data.groupby(['Embarked','Pclass'],as_index=False).size()*100/total_per_embarkation_port).transpose().reset_index()\n",
    "port_class_groups.Pclass=port_class_groups.Pclass.astype(str)\n",
    "print port_class_groups\n",
    "print \"------\"\n",
    "class1=port_class_groups[port_class_groups['Pclass']=='1'][0]\n",
    "class2=port_class_groups[port_class_groups['Pclass']=='2'][0]\n",
    "class3=port_class_groups[port_class_groups['Pclass']=='3'][0]\n",
    "print \n",
    "\n",
    "# create a stacked bar plot for the data.\n",
    "ind=np.arange(3)\n",
    "p1=plt.bar(ind,class1,0.35,color='red')\n",
    "p2=plt.bar(ind,class2,0.35,color='blue',bottom=class1)\n",
    "p3=plt.bar(ind,class3,0.35,color='green',bottom=100-class3)  \n",
    "plt.ylabel('Percentage')\n",
    "plt.title('Percentage of passengers by port and class')\n",
    "plt.xticks(ind + 0.35/2.0, ('C','Q','S'))\n",
    "plt.legend((p1[0], p2[0], p3[0]), ('class 1','class 2','class 3'),loc='best')\n"
   ]
  },
  {
   "cell_type": "markdown",
   "metadata": {
    "nbpresent": {
     "id": "fe8a8861-ec24-45f5-8f01-03d9643a9f22"
    }
   },
   "source": [
    "The results observed is interesting. 51% of the passengers that embarked from Cherbourg were of passenger class 1 and as previously shown, there was an increased survival rate for passenger in the first class. Thus, the ratios above explain the increased survival rate of passengers that embarked from port Cherbourg. "
   ]
  },
  {
   "cell_type": "markdown",
   "metadata": {
    "nbpresent": {
     "id": "697250cd-907e-4c99-993c-5672abcfd120"
    }
   },
   "source": [
    "In conclusion, the port of embarkment had no direct influence on the survival rate. However, since there was a higher percentage of 1st class passengers from the port, the survival rate was skewed for the port."
   ]
  },
  {
   "cell_type": "markdown",
   "metadata": {
    "nbpresent": {
     "id": "e444e6fc-85f2-4dac-a7fe-a5a05021b6f6"
    }
   },
   "source": [
    "\n",
    "Finally, from the questions that were tested in the above analyses, one can conclude some of the factors that affect the survival of a passenger include sex, age and passenger class.\n"
   ]
  },
  {
   "cell_type": "markdown",
   "metadata": {},
   "source": [
    "References:\n",
    "[1] https://en.wikipedia.org/wiki/RMS_Titanic#Sinking\n"
   ]
  }
 ],
 "metadata": {
  "anaconda-cloud": {},
  "kernelspec": {
   "display_name": "Python [Root]",
   "language": "python",
   "name": "Python [Root]"
  },
  "language_info": {
   "codemirror_mode": {
    "name": "ipython",
    "version": 2
   },
   "file_extension": ".py",
   "mimetype": "text/x-python",
   "name": "python",
   "nbconvert_exporter": "python",
   "pygments_lexer": "ipython2",
   "version": "2.7.12"
  },
  "nbpresent": {
   "slides": {},
   "themes": {}
  }
 },
 "nbformat": 4,
 "nbformat_minor": 0
}
